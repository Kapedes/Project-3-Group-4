{
 "cells": [
  {
   "cell_type": "code",
   "execution_count": 7,
   "metadata": {},
   "outputs": [
    {
     "ename": "OperationalError",
     "evalue": "no such table: movie.IMDB",
     "output_type": "error",
     "traceback": [
      "\u001b[1;31m---------------------------------------------------------------------------\u001b[0m",
      "\u001b[1;31mOperationalError\u001b[0m                          Traceback (most recent call last)",
      "Cell \u001b[1;32mIn[7], line 9\u001b[0m\n\u001b[0;32m      6\u001b[0m cursor \u001b[38;5;241m=\u001b[39m conn\u001b[38;5;241m.\u001b[39mcursor()\n\u001b[0;32m      8\u001b[0m \u001b[38;5;66;03m# Execute your SQL query\u001b[39;00m\n\u001b[1;32m----> 9\u001b[0m \u001b[43mcursor\u001b[49m\u001b[38;5;241;43m.\u001b[39;49m\u001b[43mexecute\u001b[49m\u001b[43m(\u001b[49m\u001b[38;5;124;43m\"\u001b[39;49m\u001b[38;5;124;43mSELECT * FROM movie.IMDB\u001b[39;49m\u001b[38;5;124;43m\"\u001b[39;49m\u001b[43m)\u001b[49m\n\u001b[0;32m     11\u001b[0m \u001b[38;5;66;03m# Fetch all rows\u001b[39;00m\n\u001b[0;32m     12\u001b[0m rows \u001b[38;5;241m=\u001b[39m cursor\u001b[38;5;241m.\u001b[39mfetchall()\n",
      "\u001b[1;31mOperationalError\u001b[0m: no such table: movie.IMDB"
     ]
    }
   ],
   "source": [
    "import sqlite3\n",
    "import json\n",
    "\n",
    "# Connect to SQLite database\n",
    "conn = sqlite3.connect('movie.sqlite')\n",
    "cursor = conn.cursor()\n",
    "\n",
    "# Execute your SQL query\n",
    "cursor.execute(\"SELECT * FROM movie.IMDB\")\n",
    "\n",
    "# Fetch all rows\n",
    "rows = cursor.fetchall()\n",
    "\n",
    "# Define a function to convert SQLite rows to JSON\n",
    "def convert_to_dict(row):\n",
    "    return dict(zip([column[0] for column in cursor.description], row))\n",
    "\n",
    "# Convert rows to list of dictionaries\n",
    "result = [convert_to_dict(row) for row in rows]\n",
    "\n",
    "# Close cursor and connection\n",
    "cursor.close()\n",
    "conn.close()\n",
    "\n",
    "# Convert list of dictionaries to JSON string\n",
    "json_data = json.dumps(result, indent=4)\n",
    "\n",
    "# Print or save JSON data as needed\n",
    "print(json_data)\n",
    "\n",
    "# If you want to save to a file\n",
    "with open('output.json', 'w') as f:\n",
    "    f.write(json_data)"
   ]
  },
  {
   "cell_type": "code",
   "execution_count": 2,
   "metadata": {},
   "outputs": [],
   "source": [
    "import sqlite3\n",
    "import json\n",
    "\n",
    "# Connect to SQLite database\n",
    "conn = sqlite3.connect('movie.sqlite')\n",
    "cursor = conn.cursor()\n",
    "\n",
    "# Execute a SQL query to retrieve table names\n",
    "cursor.execute(\"SELECT name FROM sqlite_master WHERE type='table';\")\n",
    "\n",
    "json_data = {}\n",
    "table_names = cursor.fetchall()\n",
    "\n",
    "for table in table_names:\n",
    "    print(table[0])\n",
    "    # current_table = table[0]\n",
    "    # cursor.execute(f\"SELECT * FROM {current_table}\")\n",
    "    # rows = cursor.fetchall()\n",
    "\n",
    "    # for row in rows:\n",
    "    #     print(row)\n",
    "    #     break\n",
    "    # break\n",
    "\n"
   ]
  },
  {
   "cell_type": "code",
   "execution_count": null,
   "metadata": {},
   "outputs": [],
   "source": []
  }
 ],
 "metadata": {
  "kernelspec": {
   "display_name": "monash",
   "language": "python",
   "name": "python3"
  },
  "language_info": {
   "codemirror_mode": {
    "name": "ipython",
    "version": 3
   },
   "file_extension": ".py",
   "mimetype": "text/x-python",
   "name": "python",
   "nbconvert_exporter": "python",
   "pygments_lexer": "ipython3",
   "version": "3.10.13"
  }
 },
 "nbformat": 4,
 "nbformat_minor": 2
}
